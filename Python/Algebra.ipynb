{
 "cells": [
  {
   "cell_type": "markdown",
   "metadata": {},
   "source": [
    "## Title: Algebra I\n",
    "### Author: Kim Donaldson\n",
    "### Last updated: 2021-09-05"
   ]
  },
  {
   "cell_type": "code",
   "execution_count": 2,
   "metadata": {},
   "outputs": [],
   "source": [
    "from IPython.display import display, Math\n",
    "import sympy as sym\n",
    "import numpy as np\n",
    "import math\n",
    "import pprint"
   ]
  },
  {
   "cell_type": "code",
   "execution_count": 2,
   "metadata": {},
   "outputs": [],
   "source": [
    "sym.init_printing()"
   ]
  },
  {
   "cell_type": "markdown",
   "metadata": {},
   "source": [
    "Notes: display(Math()) takes LaTeX code like '\\\\sigma = \\\\mu \\\\times \\\\sqrt{5}'"
   ]
  },
  {
   "cell_type": "markdown",
   "metadata": {},
   "source": [
    "## Solving for a variable"
   ]
  },
  {
   "cell_type": "code",
   "execution_count": 6,
   "metadata": {},
   "outputs": [
    {
     "data": {
      "image/png": "[encoded data removed]",
      "text/latex": [
       "$\\displaystyle \\left[ 3\\right]$"
      ],
      "text/plain": [
       "[3]"
      ]
     },
     "execution_count": 6,
     "metadata": {},
     "output_type": "execute_result"
    }
   ],
   "source": [
    "x = sym.symbols('x')\n",
    "expr = 2 * x - 6\n",
    "x = sym.solve(expr, x)\n",
    "x"
   ]
  },
  {
   "cell_type": "markdown",
   "metadata": {},
   "source": [
    "## Substituting a variable with a value"
   ]
  },
  {
   "cell_type": "code",
   "execution_count": 4,
   "metadata": {},
   "outputs": [
    {
     "data": {
      "text/latex": [
       "$\\displaystyle 27$"
      ],
      "text/plain": [
       "27"
      ]
     },
     "execution_count": 4,
     "metadata": {},
     "output_type": "execute_result"
    }
   ],
   "source": [
    "x = sym.symbols('x')\n",
    "expr = x**2 - 9\n",
    "expr.subs(x,6)"
   ]
  },
  {
   "cell_type": "markdown",
   "metadata": {},
   "source": [
    "## Substituting multiple variables\n",
    "<b>sympy.subs</b> takes a dictionary with key/value pairs for the variables to be substituted"
   ]
  },
  {
   "cell_type": "code",
   "execution_count": 5,
   "metadata": {},
   "outputs": [
    {
     "data": {
      "text/latex": [
       "$\\displaystyle 30$"
      ],
      "text/plain": [
       "30"
      ]
     },
     "execution_count": 5,
     "metadata": {},
     "output_type": "execute_result"
    }
   ],
   "source": [
    "a,b,c = sym.symbols('a b c')\n",
    "expr = a**2 + 3*b - c\n",
    "expr.subs({a:5, b: 2, c:1})"
   ]
  },
  {
   "cell_type": "markdown",
   "metadata": {},
   "source": [
    "## Expanding terms"
   ]
  },
  {
   "cell_type": "code",
   "execution_count": 13,
   "metadata": {},
   "outputs": [
    {
     "data": {
      "text/latex": [
       "$\\displaystyle \\left(x + y\\right) \\left(4 x + 5\\right)$"
      ],
      "text/plain": [
       "<IPython.core.display.Math object>"
      ]
     },
     "metadata": {},
     "output_type": "display_data"
    },
    {
     "data": {
      "text/latex": [
       "$\\displaystyle 4 x^{2} + 4 x y + 5 x + 5 y$"
      ],
      "text/plain": [
       "<IPython.core.display.Math object>"
      ]
     },
     "metadata": {},
     "output_type": "display_data"
    }
   ],
   "source": [
    "x,y = sym.symbols('x y')\n",
    "term1 = x + y\n",
    "term2 = (4 * x + 5)\n",
    "display(Math(sym.latex(term1 * term2)))\n",
    "display(Math(sym.latex(sym.expand(term1 * term2))))"
   ]
  },
  {
   "cell_type": "markdown",
   "metadata": {},
   "source": [
    "## Evaluating expressions\n",
    "Evaluating an expression means plugging in the values that we've been given into an expression.<br>"
   ]
  },
  {
   "cell_type": "code",
   "execution_count": 16,
   "metadata": {},
   "outputs": [
    {
     "data": {
      "text/latex": [
       "$\\displaystyle 2^{y} + 3 x - z$"
      ],
      "text/plain": [
       "<IPython.core.display.Math object>"
      ]
     },
     "metadata": {},
     "output_type": "display_data"
    }
   ],
   "source": [
    "x,y,z = sym.symbols('x y z')\n",
    "expr = 3*x + 2**y - z\n",
    "display(Math(sym.latex(expr)))"
   ]
  },
  {
   "cell_type": "markdown",
   "metadata": {},
   "source": [
    "So if we have been told that x = 5, y = 3, and z =1 <br>\n",
    "Then we can pass these values into our expression using the <b>sym.subs</b> function by passing in our values as a dictionary"
   ]
  },
  {
   "cell_type": "code",
   "execution_count": 17,
   "metadata": {},
   "outputs": [
    {
     "data": {
      "text/latex": [
       "$\\displaystyle 22$"
      ],
      "text/plain": [
       "22"
      ]
     },
     "execution_count": 17,
     "metadata": {},
     "output_type": "execute_result"
    }
   ],
   "source": [
    "expr.subs({x: 5, y: 3, z:1})"
   ]
  },
  {
   "cell_type": "markdown",
   "metadata": {},
   "source": [
    "## Solving linear systems in two equations"
   ]
  },
  {
   "cell_type": "code",
   "execution_count": 21,
   "metadata": {},
   "outputs": [
    {
     "data": {
      "text/latex": [
       "$\\displaystyle x - y + 7$"
      ],
      "text/plain": [
       "<IPython.core.display.Math object>"
      ]
     },
     "metadata": {},
     "output_type": "display_data"
    },
    {
     "data": {
      "text/latex": [
       "$\\displaystyle x + 2 y + 16$"
      ],
      "text/plain": [
       "<IPython.core.display.Math object>"
      ]
     },
     "metadata": {},
     "output_type": "display_data"
    }
   ],
   "source": [
    "x,y = sym.symbols('x y')\n",
    "eq1 = x + 7 - y\n",
    "eq2 = x + (2*y) + 16\n",
    "display(Math(sym.latex(eq1)))\n",
    "display(Math(sym.latex(eq2)))"
   ]
  },
  {
   "cell_type": "code",
   "execution_count": 23,
   "metadata": {},
   "outputs": [
    {
     "name": "stdout",
     "output_type": "stream",
     "text": [
      "x = [y - 7]\n"
     ]
    }
   ],
   "source": [
    "print(\"x = {}\".format(sym.solve(eq1, x)))"
   ]
  },
  {
   "cell_type": "markdown",
   "metadata": {},
   "source": [
    "### Plugin the value of x into equation 2"
   ]
  },
  {
   "cell_type": "code",
   "execution_count": 25,
   "metadata": {},
   "outputs": [
    {
     "data": {
      "text/latex": [
       "$\\displaystyle 3 y + 9$"
      ],
      "text/plain": [
       "<IPython.core.display.Math object>"
      ]
     },
     "metadata": {},
     "output_type": "display_data"
    }
   ],
   "source": [
    "eq3 = eq2.subs(x, y -7)\n",
    "display(Math(sym.latex(eq3)))"
   ]
  },
  {
   "cell_type": "markdown",
   "metadata": {},
   "source": [
    "### Solve for y"
   ]
  },
  {
   "cell_type": "code",
   "execution_count": 28,
   "metadata": {},
   "outputs": [
    {
     "name": "stdout",
     "output_type": "stream",
     "text": [
      "y = [-3]\n"
     ]
    }
   ],
   "source": [
    "print(\"y = {}\".format(sym.solve(eq3, y)))"
   ]
  },
  {
   "cell_type": "markdown",
   "metadata": {},
   "source": [
    "### Solve for x"
   ]
  },
  {
   "cell_type": "code",
   "execution_count": 30,
   "metadata": {},
   "outputs": [
    {
     "name": "stdout",
     "output_type": "stream",
     "text": [
      "x = -10\n"
     ]
    }
   ],
   "source": [
    "print(\"x = {}\".format(-3 - 7))"
   ]
  },
  {
   "cell_type": "markdown",
   "metadata": {},
   "source": [
    "### Check that our values satisfy the equations"
   ]
  },
  {
   "cell_type": "code",
   "execution_count": 31,
   "metadata": {},
   "outputs": [
    {
     "data": {
      "image/png": "[encoded data removed]",
      "text/latex": [
       "$\\displaystyle 0$"
      ],
      "text/plain": [
       "0"
      ]
     },
     "execution_count": 31,
     "metadata": {},
     "output_type": "execute_result"
    }
   ],
   "source": [
    "eq1.subs({x: -10, y: -3})"
   ]
  },
  {
   "cell_type": "code",
   "execution_count": 32,
   "metadata": {},
   "outputs": [
    {
     "data": {
      "image/png": "[encoded data removed]",
      "text/latex": [
       "$\\displaystyle 0$"
      ],
      "text/plain": [
       "0"
      ]
     },
     "execution_count": 32,
     "metadata": {},
     "output_type": "execute_result"
    }
   ],
   "source": [
    "eq2.subs({x: -10, y: -3})"
   ]
  },
  {
   "cell_type": "markdown",
   "metadata": {},
   "source": [
    "## Finding the Greatest Common Denominator"
   ]
  },
  {
   "cell_type": "code",
   "execution_count": 34,
   "metadata": {},
   "outputs": [
    {
     "data": {
      "image/png": "[encoded data removed]",
      "text/latex": [
       "$\\displaystyle 5$"
      ],
      "text/plain": [
       "5"
      ]
     },
     "execution_count": 34,
     "metadata": {},
     "output_type": "execute_result"
    }
   ],
   "source": [
    "math.gcd(55, 105)"
   ]
  },
  {
   "cell_type": "code",
   "execution_count": 39,
   "metadata": {},
   "outputs": [
    {
     "data": {
      "text/latex": [
       "$\\displaystyle \\frac{16}{88} = \\frac{2\\times8}{11\\times8}$"
      ],
      "text/plain": [
       "<IPython.core.display.Math object>"
      ]
     },
     "metadata": {},
     "output_type": "display_data"
    }
   ],
   "source": [
    "a = 16\n",
    "b = 88\n",
    "fact = math.gcd(a, b)\n",
    "display(Math('\\\\frac{%g}{%g} = \\\\frac{%g\\\\times%g}{%g\\\\times%g}' %(a, b, a/fact, fact, b/fact, fact)))"
   ]
  },
  {
   "cell_type": "markdown",
   "metadata": {},
   "source": [
    "## Prime Factorization\n",
    "The process of breaking a number down into it's prime multiplicands\n",
    "\n",
    "the <b>sympy.factorint</b> function returns a dictionary of prime numbers as the keys, \n",
    "and correspinding values for how many times they go into the number. "
   ]
  },
  {
   "cell_type": "code",
   "execution_count": 70,
   "metadata": {},
   "outputs": [
    {
     "data": {
      "image/png": "[encoded data removed]",
      "text/latex": [
       "$\\displaystyle \\left\\{ 2 : 6, \\  3 : 1\\right\\}$"
      ],
      "text/plain": [
       "{2: 6, 3: 1}"
      ]
     },
     "execution_count": 70,
     "metadata": {},
     "output_type": "execute_result"
    }
   ],
   "source": [
    "num = 192\n",
    "sym.factorint(num)"
   ]
  },
  {
   "cell_type": "code",
   "execution_count": 44,
   "metadata": {},
   "outputs": [
    {
     "data": {
      "image/png": "[encoded data removed]",
      "text/latex": [
       "$\\displaystyle 192$"
      ],
      "text/plain": [
       "192"
      ]
     },
     "execution_count": 44,
     "metadata": {},
     "output_type": "execute_result"
    }
   ],
   "source": [
    "2 * 2 * 2 * 2 * 2 * 2 * 3"
   ]
  },
  {
   "cell_type": "code",
   "execution_count": 75,
   "metadata": {},
   "outputs": [
    {
     "name": "stdout",
     "output_type": "stream",
     "text": [
      "{2: 6, 3: 1}\n"
     ]
    }
   ],
   "source": [
    "factors = sym.factorint(num)\n",
    "primes = factors.keys()\n",
    "pprint.pprint(factors)"
   ]
  },
  {
   "cell_type": "markdown",
   "metadata": {},
   "source": [
    "Reconstrucing the number by looping over the primes and multipying by the value of the key"
   ]
  },
  {
   "cell_type": "code",
   "execution_count": 74,
   "metadata": {},
   "outputs": [
    {
     "data": {
      "image/png": "[encoded data removed]",
      "text/latex": [
       "$\\displaystyle 192$"
      ],
      "text/plain": [
       "192"
      ]
     },
     "execution_count": 74,
     "metadata": {},
     "output_type": "execute_result"
    }
   ],
   "source": [
    "num = 1\n",
    "for k in primes:\n",
    "    for j in range(factors[k]):\n",
    "        num = num * k\n",
    "num"
   ]
  },
  {
   "cell_type": "markdown",
   "metadata": {},
   "source": [
    "## Inequalities\n",
    "Solving for inequalities means asking what range of a symbolic variable makes an expression true"
   ]
  },
  {
   "cell_type": "code",
   "execution_count": 84,
   "metadata": {},
   "outputs": [
    {
     "data": {
      "text/latex": [
       "$\\displaystyle 3 - \\frac{x}{2} > 5$"
      ],
      "text/plain": [
       "<IPython.core.display.Math object>"
      ]
     },
     "metadata": {},
     "output_type": "display_data"
    }
   ],
   "source": [
    "expr = 3 - x / 2 > 5\n",
    "display(Math(sym.latex(expr)))"
   ]
  },
  {
   "cell_type": "code",
   "execution_count": 85,
   "metadata": {},
   "outputs": [
    {
     "data": {
      "image/png": "[encoded data removed]",
      "text/latex": [
       "$\\displaystyle -\\infty < x \\wedge x < -4$"
      ],
      "text/plain": [
       "-∞ < x ∧ x < -4"
      ]
     },
     "execution_count": 85,
     "metadata": {},
     "output_type": "execute_result"
    }
   ],
   "source": [
    "sym.solve(expr)"
   ]
  },
  {
   "cell_type": "markdown",
   "metadata": {},
   "source": [
    "## Associative Property\n",
    "The associative property says that it doesn't matter how numbers are grouped together when we add or multiply them together. Therefore addition and multiplication can be described as associative operands.\n",
    "This just means that <b>5 + (4 + 1)</b> is the same as <b>5 + (4 + 1)</b> and <b>(2 * 7) * 3</b> is the same as <b>2 * (7 * 3)</b>\n",
    "<br>\n",
    "This can be illustrated in python:"
   ]
  },
  {
   "cell_type": "code",
   "execution_count": 4,
   "metadata": {},
   "outputs": [
    {
     "data": {
      "text/plain": [
       "True"
      ]
     },
     "execution_count": 4,
     "metadata": {},
     "output_type": "execute_result"
    }
   ],
   "source": [
    "sum1 = (5 + 4) + 1\n",
    "sum2 = 5 + (4 + 1)\n",
    "sum1 == sum2"
   ]
  },
  {
   "cell_type": "code",
   "execution_count": 5,
   "metadata": {},
   "outputs": [
    {
     "data": {
      "text/plain": [
       "True"
      ]
     },
     "execution_count": 5,
     "metadata": {},
     "output_type": "execute_result"
    }
   ],
   "source": [
    "product1 = (2 * 7) * 3\n",
    "product2 = 2 * (7 * 3)\n",
    "product1 == product2"
   ]
  },
  {
   "cell_type": "markdown",
   "metadata": {},
   "source": [
    "## Communicative Property\n",
    "The communciative property says that when we add or multiply numbers that order doesn't matter. <br>\n",
    "So, <b>(6 * 4)</b> is the same as <b>(4 * 6)</b> and <b>(7 + 3)</b> is the same as <b>3 + 7</b>  "
   ]
  },
  {
   "cell_type": "markdown",
   "metadata": {},
   "source": [
    "## Distributive Property\n",
    "The disributive property says that we can expand an expression when we have a value being multiplied across a polynomial. So the expression <b>3(a + c)</b> can be expanded as <b>3a + 3c</b><br>\n",
    "Sympy will automatically apply the distributive property to our expressions and expand the terms for us:"
   ]
  },
  {
   "cell_type": "code",
   "execution_count": 9,
   "metadata": {},
   "outputs": [
    {
     "data": {
      "text/latex": [
       "$\\displaystyle 3 a + 3 c$"
      ],
      "text/plain": [
       "<IPython.core.display.Math object>"
      ]
     },
     "metadata": {},
     "output_type": "display_data"
    }
   ],
   "source": [
    "a, c = sym.symbols('a c')\n",
    "expr = 3 * (a + c)\n",
    "display(Math(sym.latex(expr)))"
   ]
  },
  {
   "cell_type": "markdown",
   "metadata": {},
   "source": [
    "## Transitive Property\n",
    "The transitive property tells us that when we know that when we know that <b>x = y</b> and that <b>y = z</b> then x must also be equal to z."
   ]
  },
  {
   "cell_type": "code",
   "execution_count": 11,
   "metadata": {},
   "outputs": [
    {
     "data": {
      "text/plain": [
       "True"
      ]
     },
     "execution_count": 11,
     "metadata": {},
     "output_type": "execute_result"
    }
   ],
   "source": [
    "# Illustrating the transitive property \n",
    "val1 = 9\n",
    "val2 = val1\n",
    "val3 = val2\n",
    "val1 == val3\n"
   ]
  },
  {
   "cell_type": "markdown",
   "metadata": {},
   "source": [
    "## Rules of equations\n",
    "* When we make a change to one side of an equation we have to make the same change to the other side\n",
    "* In Python all expressions are set to 0 "
   ]
  },
  {
   "cell_type": "markdown",
   "metadata": {},
   "source": [
    "## Combining like terms\n",
    "When using addition and subtraction our terms have to have the same symbolic variable and the same exponent.\n",
    "When we combine like terms we can add or subtract the coeffecients such that <b>2x + 5x = 7x</b>\n",
    "and <b>8x - 6x = 2x</b><br>\n"
   ]
  },
  {
   "cell_type": "code",
   "execution_count": 23,
   "metadata": {},
   "outputs": [
    {
     "data": {
      "text/latex": [
       "$\\displaystyle 7 x$"
      ],
      "text/plain": [
       "<IPython.core.display.Math object>"
      ]
     },
     "metadata": {},
     "output_type": "display_data"
    },
    {
     "data": {
      "text/latex": [
       "$\\displaystyle 9 x^{2}$"
      ],
      "text/plain": [
       "<IPython.core.display.Math object>"
      ]
     },
     "metadata": {},
     "output_type": "display_data"
    }
   ],
   "source": [
    "expr = 2*x + 5*x \n",
    "expr2 = 3*x**2 + 6*x**2\n",
    "display(Math(sym.latex(expr)))\n",
    "display(Math(sym.latex(expr2)))"
   ]
  },
  {
   "cell_type": "markdown",
   "metadata": {},
   "source": [
    "## Multiplying and division of like terms\n",
    "With multiplication and division we have like terms when we have the same symbolic variable. They can have different exponents.<br>\n",
    "When multiplying two terms that share the same variable raised to different exponents we add the exponents such that <b>a^2 * a^3 = a^5</b><br>\n",
    "When dividing like terms we subtract the exponents such that <b>a^5 / a^3 = a^2</b>"
   ]
  },
  {
   "cell_type": "code",
   "execution_count": 33,
   "metadata": {},
   "outputs": [
    {
     "data": {
      "text/latex": [
       "$\\displaystyle a^{5}$"
      ],
      "text/plain": [
       "a**5"
      ]
     },
     "execution_count": 33,
     "metadata": {},
     "output_type": "execute_result"
    }
   ],
   "source": [
    "a = sym.symbols('a')\n",
    "a**2 * a**3"
   ]
  },
  {
   "cell_type": "code",
   "execution_count": 28,
   "metadata": {},
   "outputs": [
    {
     "data": {
      "text/latex": [
       "$\\displaystyle a^{2}$"
      ],
      "text/plain": [
       "a**2"
      ]
     },
     "execution_count": 28,
     "metadata": {},
     "output_type": "execute_result"
    }
   ],
   "source": [
    "a**5 / a**3"
   ]
  },
  {
   "cell_type": "markdown",
   "metadata": {},
   "source": [
    "## Negative exponents\n",
    "When we have a negative exponent we flip the numerator and denominator.</br>\n",
    "So <b>x**-1</b> is the same as <b>1/x</b>"
   ]
  },
  {
   "cell_type": "code",
   "execution_count": 40,
   "metadata": {},
   "outputs": [
    {
     "data": {
      "text/latex": [
       "$\\displaystyle \\frac{1}{x}$"
      ],
      "text/plain": [
       "<IPython.core.display.Math object>"
      ]
     },
     "metadata": {},
     "output_type": "display_data"
    },
    {
     "data": {
      "text/latex": [
       "$\\displaystyle 4 x^{2}$"
      ],
      "text/plain": [
       "<IPython.core.display.Math object>"
      ]
     },
     "metadata": {},
     "output_type": "display_data"
    }
   ],
   "source": [
    "display(Math(sym.latex(x**-1)))\n",
    "display(Math(sym.latex(4/x**-2)))"
   ]
  },
  {
   "cell_type": "markdown",
   "metadata": {},
   "source": [
    "## Polynomials\n",
    "An expression consisting of symbolic variables and coeffecients that involve only + - * / operations and non-negative exponents. Each element is called a <b>term</b>. The highest power is called the <b>degree</b>. The term with highest degree is called the <b>leading term</b>. A polynomial can also be described as a sum of multiple terms.<br>\n",
    "Sympy provides a Poly class "
   ]
  },
  {
   "cell_type": "code",
   "execution_count": 80,
   "metadata": {},
   "outputs": [
    {
     "data": {
      "text/latex": [
       "$\\displaystyle 3 x^{5} + 7 x^{4} + 2 x$"
      ],
      "text/plain": [
       "<IPython.core.display.Math object>"
      ]
     },
     "metadata": {},
     "output_type": "display_data"
    },
    {
     "data": {
      "text/latex": [
       "$\\displaystyle 8 x^{5} + 4 x^{4} - 2 x$"
      ],
      "text/plain": [
       "<IPython.core.display.Math object>"
      ]
     },
     "metadata": {},
     "output_type": "display_data"
    },
    {
     "data": {
      "text/latex": [
       "$\\displaystyle 4 x + 5 x^{n}$"
      ],
      "text/plain": [
       "<IPython.core.display.Math object>"
      ]
     },
     "metadata": {},
     "output_type": "display_data"
    },
    {
     "name": "stdout",
     "output_type": "stream",
     "text": [
      "[3, 7, 2]\n"
     ]
    }
   ],
   "source": [
    "# Examples of polynomials\n",
    "x,n = sym.symbols('x n')\n",
    "expr1 = 3*x**5 + 7*x**4 + 2*x\n",
    "expr2 = 8*x**5 + 4*x**4 - 2*x\n",
    "expr3 = 4*x + (5*x**n)\n",
    "display(Math(sym.latex(expr1)))\n",
    "display(Math(sym.latex(expr2)))\n",
    "display(Math(sym.latex(expr3)))\n",
    "# Casting these expressions to Poly objects\n",
    "poly1 = sym.Poly(expr1)\n",
    "poly2 = sym.Poly(expr2)\n",
    "poly3 = sym.Poly(expr3)\n",
    "# We can access just the coeffecients with poly.coeffs() function\n",
    "print(poly1.coeffs())"
   ]
  },
  {
   "cell_type": "markdown",
   "metadata": {},
   "source": [
    "* Example 1: 2nd degree polynomial\n",
    "* Example 2: 1st degree polynomial\n",
    "* Example 3: nth degree polynomial"
   ]
  },
  {
   "cell_type": "markdown",
   "metadata": {},
   "source": [
    "### Addition and subtraction with polynomials\n",
    "When adding or subtracting polynomials we combine like terms. <br />\n",
    "Sympy will automatically put our expressions into their simplist form by combining like terms. <br />\n",
    "We can add and subtract coeffecients that share the same variable to the same power. <br />\n",
    "So, <b>5x + 2x</b> becomes <b>7x</b>. <br />\n",
    "But <b>5x^2 + 2x</b> cannot be combined because the the variable x has different exponents. <br />\n"
   ]
  },
  {
   "cell_type": "code",
   "execution_count": 44,
   "metadata": {},
   "outputs": [
    {
     "data": {
      "text/latex": [
       "$\\displaystyle (3 x^{5} + 7 x^{4} + 2 x) + (8 x^{5} + 4 x^{4} - 2 x) = (11 x^{5} + 11 x^{4})$"
      ],
      "text/plain": [
       "<IPython.core.display.Math object>"
      ]
     },
     "metadata": {},
     "output_type": "display_data"
    }
   ],
   "source": [
    "display(Math('(%s) + (%s) = (%s)' %(sym.latex(expr1), sym.latex(expr2), sym.latex(expr1 + expr2))))"
   ]
  },
  {
   "cell_type": "code",
   "execution_count": 15,
   "metadata": {},
   "outputs": [
    {
     "data": {
      "text/latex": [
       "$\\displaystyle (7 x^{2} + 5 x - (4 x + 5 x^{n}) = (7 x^{2} + x - 5 x^{n}))$"
      ],
      "text/plain": [
       "<IPython.core.display.Math object>"
      ]
     },
     "metadata": {},
     "output_type": "display_data"
    }
   ],
   "source": [
    "display(Math('(%s - (%s) = (%s))' %(sym.latex(expr1), sym.latex(expr3), sym.latex(expr1 - expr3))))"
   ]
  },
  {
   "cell_type": "markdown",
   "metadata": {},
   "source": [
    "### Multiplication of polynomials\n",
    "When multiplying polynomials we use the distributive property to multiply all the terms of the first polynomial with the second. This is often referred to as the <b>FOIL method</b>. The FOIL method stands for first, outter, inner, last. This can be represented with symbolic variables."
   ]
  },
  {
   "cell_type": "code",
   "execution_count": 47,
   "metadata": {},
   "outputs": [
    {
     "data": {
      "text/latex": [
       "$\\displaystyle \\left(a + b\\right) \\left(c + d\\right)$"
      ],
      "text/plain": [
       "<IPython.core.display.Math object>"
      ]
     },
     "metadata": {},
     "output_type": "display_data"
    },
    {
     "name": "stdout",
     "output_type": "stream",
     "text": [
      "Applying the FOIL method.\n"
     ]
    },
    {
     "data": {
      "text/latex": [
       "$\\displaystyle a c + a d + b c + b d$"
      ],
      "text/plain": [
       "<IPython.core.display.Math object>"
      ]
     },
     "metadata": {},
     "output_type": "display_data"
    }
   ],
   "source": [
    "a,b,c,d = sym.symbols('a b c d')\n",
    "p1 = (a + b) \n",
    "p2 = (c + d)\n",
    "display(Math(sym.latex(p1 * p2)))\n",
    "print(\"Applying the FOIL method.\")\n",
    "display(Math(sym.latex(a*c + a*d + b*c + b*d)))"
   ]
  },
  {
   "cell_type": "markdown",
   "metadata": {},
   "source": [
    "### Division of polynomials\n",
    "When dividing polynomials we would normally use long division. Sympy can help us make quick work of this."
   ]
  },
  {
   "cell_type": "code",
   "execution_count": 11,
   "metadata": {},
   "outputs": [
    {
     "data": {
      "text/latex": [
       "$\\displaystyle \\frac{5 x^{5} + 2 x}{2 x^{3} - x} \\Rightarrow \\frac{5 x^{2}}{2} + \\frac{5}{4} remainder \\frac{13 x}{4}$"
      ],
      "text/plain": [
       "<IPython.core.display.Math object>"
      ]
     },
     "metadata": {},
     "output_type": "display_data"
    }
   ],
   "source": [
    "expr1 = 5*x**5 + 2*x\n",
    "expr2 = 2*x**3 - x\n",
    "\n",
    "q,r = sym.div(expr1, expr2, domain='QQ')\n",
    "display(Math('\\\\frac{%s}{%s} \\\\Rightarrow %s remainder %s' %(sym.latex(expr1), sym.latex(expr2), sym.latex(q), sym.latex(r))))\n"
   ]
  },
  {
   "cell_type": "markdown",
   "metadata": {},
   "source": [
    "### Factoring polynomials"
   ]
  },
  {
   "cell_type": "code",
   "execution_count": 77,
   "metadata": {},
   "outputs": [
    {
     "data": {
      "text/latex": [
       "$\\displaystyle 2 x^{5} + 2 x^{3} - 2 x^{2} + 4 x$"
      ],
      "text/plain": [
       "<IPython.core.display.Math object>"
      ]
     },
     "metadata": {},
     "output_type": "display_data"
    },
    {
     "data": {
      "text/latex": [
       "$\\displaystyle 2 x \\left(x^{4} + x^{2} - x + 2\\right)$"
      ],
      "text/plain": [
       "2*x*(x**4 + x**2 - x + 2)"
      ]
     },
     "execution_count": 77,
     "metadata": {},
     "output_type": "execute_result"
    }
   ],
   "source": [
    "expr = 2*x**5 + 2*x**3 - 2*x**2 +4*x \n",
    "display(Math(sym.latex(expr)))\n",
    "sym.factor(expr)"
   ]
  },
  {
   "cell_type": "markdown",
   "metadata": {},
   "source": []
  }
 ],
 "metadata": {
  "kernelspec": {
   "display_name": "Python 3",
   "language": "python",
   "name": "python3"
  },
  "language_info": {
   "codemirror_mode": {
    "name": "ipython",
    "version": 3
   },
   "file_extension": ".py",
   "mimetype": "text/x-python",
   "name": "python",
   "nbconvert_exporter": "python",
   "pygments_lexer": "ipython3",
   "version": "3.7.6"
  }
 },
 "nbformat": 4,
 "nbformat_minor": 4
}
